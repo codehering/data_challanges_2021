{
 "cells": [
  {
   "cell_type": "code",
   "execution_count": 3,
   "metadata": {},
   "outputs": [],
   "source": [
    "import pandas as pd\n",
    "import numpy as np\n",
    "%matplotlib inline\n",
    "import matplotlib.pyplot as plt\n",
    "from kneed import KneeLocator\n",
    "from sklearn.datasets import make_blobs\n",
    "from sklearn.cluster import KMeans\n",
    "from sklearn.metrics import silhouette_score\n",
    "from sklearn.preprocessing import StandardScaler\n",
    "from sklearn.experimental import enable_iterative_imputer\n",
    "from sklearn.impute import IterativeImputer\n",
    "import seaborn as sn\n",
    "from kmodes.kmodes import KModes\n",
    "from kmodes.kprototypes import KPrototypes\n",
    "import seaborn as sns\n"
   ]
  },
  {
   "cell_type": "code",
   "execution_count": 9,
   "metadata": {
    "scrolled": true
   },
   "outputs": [],
   "source": [
    "def import_data(dummy, exclude):\n",
    "    \"\"\"import prepared dataset with or without dummy variables, \n",
    "    dummy: boolean\n",
    "    exclude: list of variables to be deleted\"\"\"\n",
    "    if dummy is True: \n",
    "        data_prep = pd.read_csv(\"C:\\\\Users\\\\Leni\\\\Documents\\\\UNI\\\\Data Challenges\\\\data\\\\analysis_dataset_dummy.csv\", sep=\";\")\n",
    "    else:\n",
    "        data_prep = pd.read_csv(\"C:\\\\Users\\\\Leni\\\\Documents\\\\UNI\\\\Data Challenges\\\\data\\\\analysis_dataset.csv\", sep=\";\")\n",
    "    \n",
    "    coin_clusters = data_prep[['coin']].copy()\n",
    "    del data_prep[\"coin\"]\n",
    "    del data_prep[\"findspot\"] #empty column\n",
    "    del data_prep[\"Unnamed: 0\"]\n",
    "    \n",
    "    for var in exclude:\n",
    "        del data_prep[var]\n",
    "        \n",
    "    print(\"/data imported\")\n",
    "    \n",
    "    return data_prep, coin_clusters\n",
    "\n",
    "\n",
    "def mat_cat(data):\n",
    "    \"\"\"Dummy Variable material zurückführen - TO BE CHECKED\"\"\"\n",
    "    material_col = data[['material_ ae ', 'material_ ar ', 'material_ av ', 'material_ cu ', 'material_ el ','material_ pb ']].idxmax(axis=1)\n",
    "    #### TODO: missing values !\n",
    "    material_col = material_col.to_frame(name='material')\n",
    "    material_col['material'] = material_col['material'].str.replace(\"material_ \", \"\")\n",
    "    data_material_col = data.join(material_col)\n",
    "    for mat in ['material_ ae ', 'material_ ar ', 'material_ av ', 'material_ cu ', 'material_ el ','material_ pb ']:\n",
    "        del data_material_col[mat]\n",
    "\n",
    "    # cat encoding for material\n",
    "    data_material_col['material'] = data_material_col['material'].astype('category')\n",
    "    data_material_col[f'mat_cat'] = data_material_col['material'].cat.codes\n",
    "    #data_material_col.drop(['material'], axis=1)\n",
    "    del data_material_col['material']\n",
    "    print('data_material_col')\n",
    "    \n",
    "    features = data_material_col.columns #column names\n",
    "    index = data_material_col.index\n",
    "    \n",
    "    return data_material_col, features, index\n",
    "\n",
    "\n",
    "def imput_it(data):\n",
    "    \"\"\"Imputieren von fehlenden Werten mit iterativem Imputer (gleich dbscan)\"\"\"\n",
    "    imp = IterativeImputer(max_iter=10, random_state=0)\n",
    "    imp_data = data.copy()\n",
    "    head = data.columns\n",
    "    for col in data.columns:\n",
    "        imp.fit(np.array(data[col]).reshape(-1,1))\n",
    "        imp_data[col] = imp.transform(np.array(data[col]).reshape(-1,1))\n",
    "    imp_data = pd.DataFrame(imp_data, columns=head)\n",
    "\n",
    "    print(\"/data imputed\")\n",
    "    return imp_data\n",
    "\n",
    "def imput_it_test(data, no_cat=False):\n",
    "    \"\"\"Imputieren von fehlenden Werten mit iterativem Imputer (gleich dbscan)\"\"\"\n",
    "    imp = IterativeImputer(max_iter=10, random_state=0)\n",
    "    imp_data = data.copy()\n",
    "    head = data.columns\n",
    "    for col in data.columns:\n",
    "        if data[col].dtype != 'category':\n",
    "            print('test')\n",
    "        imp.fit(np.array(data[col]).reshape(-1,1))\n",
    "        imp_data[col] = imp.transform(np.array(data[col]).reshape(-1,1))\n",
    "    imp_data = pd.DataFrame(imp_data, columns=head)\n",
    "\n",
    "    print(\"/data imputed\")\n",
    "    return imp_data\n",
    "\n",
    "\n",
    "def scale_st(data, features, index):\n",
    "    \"\"\"Daten skalieren\"\"\"\n",
    "    # scale numeric data, MW 0 Std 1\n",
    "    scaler = StandardScaler()\n",
    "    scal_data = pd.DataFrame(scaler.fit_transform(data), columns=features, index=index) #ndarray, nan \n",
    "\n",
    "    # TODO: handle categorical data?\n",
    "\n",
    "    print(\"/data scaled\")\n",
    "    \n",
    "    return scal_data\n",
    "\n",
    "def apply_kmeans(data, number_clusters):\n",
    "    \"\"\"kmeans algorithm, standard settings, only for nummeric data, use scaled data\"\"\"\n",
    "    kmeans_kwargs = {\n",
    "        \"init\": \"random\",\n",
    "        \"n_init\": 10,\n",
    "        \"max_iter\": 300,\n",
    "        \"random_state\": 42,}\n",
    "\n",
    "    kmeans = KMeans(n_clusters=n, **kmeans_kwargs)\n",
    "    kmeans.fit(scal_imp_data)\n",
    "    #data_clusters['labels_kmeans'] = kmeans.labels_\n",
    "    #clusters_out = coins['labels_kmeans'] = kmeans.labels_\n",
    "    print('/data kMeans clustered')\n",
    "    print(\"min SSE:\", kmeans.inertia_ )\n",
    "    print(\"#iterations: \", kmeans.n_iter_)\n",
    "    \n",
    "    #print(\"cluster centers: \", kmeans.cluster_centers_)\n",
    "    \n",
    "    return kmeans.labels_\n",
    "\n",
    "def apply_kmodes(data, number_clusters, cat_columns):\n",
    "    \"\"\"cat_columns : list e.g. [5,6,7,8]\"\"\"\n",
    "    kproto = KPrototypes(n_clusters=number_clusters, init='Cao')\n",
    "    clusters = kproto.fit_predict(data, categorical=cat_columns) #column indices that are categorical \n",
    "    \n",
    "    print('/data kModes clustered')\n",
    "    print(\"min SSE:\") #?\n",
    "    print(\"#iterations: \", kproto.n_iter_)\n",
    "    #print(\"cluster centers: \", kmeans.cluster_centers_)\n",
    "    \n",
    "    # TODO: The k-prototypes also accepts np.NaN values as missing values for the categorical variables, but doesnot accept missing values for the numerical values.\n",
    "    \n",
    "    return kproto.labels_\n",
    "\n",
    "def plot_feat_matrix(data, col_labels, title, all=False):\n",
    "    if all is True:\n",
    "        features_anal1 = data.columns\n",
    "        features_anal2 = data.columns\n",
    "    else:\n",
    "        features_anal1 = ['denom_cat', 'maxdiam', 'weight','enddate', 'startdate', 'axis', ]#,'denom_cat', 'mint_cat', 'collection_cat' ]\n",
    "        features_anal2 = ['weight', 'startdate', 'denom_cat', 'maxdiam']\n",
    "    fig, axs = plt.subplots(len(features_anal1), len(features_anal2), sharex=False, sharey=False, figsize=(20, 20), constrained_layout=True)\n",
    "    y, x = 0, 0\n",
    "\n",
    "    for feature1 in features_anal1:\n",
    "        for feature2 in features_anal2:\n",
    "            if not feature1 == feature2:\n",
    "                try:\n",
    "                    axs[x, y].scatter(data[feature1], data[feature2], c=data[col_labels], alpha=0.6)\n",
    "                    axs[x, y].set_xlabel(feature1)\n",
    "                    axs[x, y].set_ylabel(feature2)\n",
    "                except:\n",
    "                    next\n",
    "            y += 1\n",
    "        y = 0\n",
    "        x += 1\n",
    "\n",
    "    fig.suptitle(title, fontsize=16)\n",
    "    plt.show()\n",
    "    plt.savefig(f'{col_labels}_plot.png')\n",
    "    print('/plot saved')\n",
    "    \n",
    "    \n",
    "\n",
    "def describe_feat_agg(data, col_labels):\n",
    "    \"\"\"mean and count per variable per cluster\"\"\"\n",
    "    data_agg = data.groupby([col_labels]).agg([\"mean\", \"count\"])\n",
    "    print('results per cluster')\n",
    "    print(data_agg)"
   ]
  },
  {
   "cell_type": "heading",
   "metadata": {},
   "level": 1,
   "source": [
    "",
    "\n",
    ""
   ]
  },
  {
   "cell_type": "heading",
   "metadata": {},
   "level": 1,
   "source": [
    "kMeans"
   ]
  },
  {
   "cell_type": "heading",
   "metadata": {},
   "level": 1,
   "source": [
    "1.1. full dataset"
   ]
  },
  {
   "cell_type": "code",
   "execution_count": 61,
   "metadata": {
    "collapsed": false
   },
   "outputs": [
    {
     "name": "stdout",
     "output_type": "stream",
     "text": [
      "/data imported\n/data imputed"
     ]
    },
    {
     "name": "stdout",
     "output_type": "stream",
     "text": [
      "\n/data scaled\n"
     ]
    },
    {
     "name": "stdout",
     "output_type": "stream",
     "text": [
      "/data kMeans clustered\nmin SSE: 189958.34120381786\n#iterations:  18\n"
     ]
    },
    {
     "name": "stdout",
     "output_type": "stream",
     "text": [
      "results per cluster\n                  maxdiam          mindiam           weight           enddate  \\\n                     mean count       mean count       mean count        mean   \nkmeans_allvars                                                                  \n0               13.586995  4443  13.700294  2649   2.805155  5065 -357.426135   \n1               22.285049  3995  21.735390  2449   7.011694  5714  160.326185   \n2               22.917754  5235  21.797542  3673   7.617776  5152  184.068290   \n3               27.670623  2407  26.620000  1035  14.778812  3367 -240.849183   \n4               15.214088  1162  15.931760   233   8.688426   896 -410.452114   \n5               21.496699  4387  20.271709  2639   6.672134  5910  155.413422   \n6               15.836723  5307  15.890056  2158   3.816252  5598 -219.529085   \n7               32.443036  3986  31.288425  3510  20.478835  3664  201.790597   \n\n                       startdate        ... material_cat        denom_cat  \\\n               count        mean count  ...         mean count       mean   \nkmeans_allvars                          ...                                 \n0               5395 -393.820204  5395  ...     0.769415  5421  19.259177   \n1               4010  130.402743  4010  ...     0.052561  6678   3.469003   \n2               6077  164.916077  6077  ...    -0.018937  7340   3.381335   \n3               2692 -283.756596  2691  ...     1.044973  3491  37.414781   \n4               1159 -476.062985  1159  ...     3.778229  1231  32.400487   \n5               4649  131.616824  4648  ...     0.050650  6693   3.271926   \n6               5398 -285.178585  5398  ...     0.047486  6065   0.351855   \n7               3935  192.518933  3935  ...     0.010794  4169   2.182538   \n\n                       mint_cat       collection_cat                coin        \n               count       mean count           mean count          mean count  \nkmeans_allvars                                                                  \n0               5421  33.596938  5421   17733.563918  5421  18746.712046  5421  \n1               6678  18.991315  6678   17967.935010  6678  18004.659778  6678  \n2               7340  77.361172  7340    5292.508856  7340  23974.758992  7340  \n3               3491  51.509310  3491   17928.748210  3491  18272.055285  3491  \n4               1231  41.669374  1231    6543.292445  1231  32167.471162  1231  \n5               6693  79.781563  6693   27289.725833  6693  22340.482295  6693  \n6               6065  51.101072  6065   17766.236768  6065  23602.054740  6065  \n7               4169  64.710962  4169   18424.295515  4169  17940.284241  4169  \n\n[8 rows x 22 columns]\n"
     ]
    },
    {
     "name": "stdout",
     "output_type": "stream",
     "text": [
      "/plot saved\n"
     ]
    }
   ],
   "source": [
    "variant = 'kmeans_allvars'\n",
    "\n",
    "# import and impute, scale data\n",
    "exclude_var = []\n",
    "data_prep, coin_clusters = import_data(dummy=False, exclude=exclude_var)\n",
    "scal_imp_data = scale_st(imput_it(data_prep), features=data_prep.columns, index=data_prep.index)\n",
    "\n",
    "#cluster data\n",
    "n = 8 #number of clusters\n",
    "labels = apply_kmeans(data=scal_imp_data, number_clusters=n)\n",
    "coin_clusters[variant] = labels\n",
    "\n",
    "#save results (coinsIDs + cluster labels)\n",
    "coin_clusters.to_csv(f\"clusters_{variant}.csv\", sep=\";\")\n",
    "\n",
    "# explore results\n",
    "results = pd.concat([data_prep, coin_clusters], axis=1)\n",
    "describe_feat_agg(data=results, col_labels=variant)\n",
    "plot_feat_matrix(data=results, col_labels=variant, title=\"kMeans Clustering with all Variables, stand/imputet, no dummy\")"
   ]
  },
  {
   "cell_type": "heading",
   "metadata": {},
   "level": 1,
   "source": [
    "1.2 excl Collection"
   ]
  },
  {
   "cell_type": "code",
   "execution_count": 62,
   "metadata": {
    "collapsed": true
   },
   "outputs": [
    {
     "name": "stdout",
     "output_type": "stream",
     "text": [
      "/data imported\n/data imputed\n/data scaled\n"
     ]
    },
    {
     "name": "stdout",
     "output_type": "stream",
     "text": [
      "/data kMeans clustered\nmin SSE: 151467.6229559213\n#iterations:  26\n"
     ]
    },
    {
     "name": "stdout",
     "output_type": "stream",
     "text": [
      "results per cluster\n                       maxdiam          mindiam           weight        \\\n                          mean count       mean count       mean count   \nkmeans_noCollection                                                      \n0                    15.318875  5714  15.543559  2492   3.652083  6064   \n1                    13.788958  3617  13.716399  2291   2.835444  4146   \n2                    32.166566  4281  30.990718  3749  20.097854  3863   \n3                    15.214228  1069  16.495035   141   9.002646   805   \n4                    19.736265  1826  20.191817   798   5.862431  1859   \n5                    21.758167  7156  20.504195  4880   6.757835  8749   \n6                    22.917091  4833  22.273006  2967   7.370159  6491   \n7                    27.802016  2426  26.782101  1028  14.826073  3389   \n\n                        enddate         startdate             axis        \\\n                           mean count        mean count       mean count   \nkmeans_noCollection                                                        \n0                   -231.353445  6066 -295.882295  6066  10.489134  3451   \n1                   -367.528481  4424 -401.272378  4424   7.262862  1244   \n2                    203.121905  4241  193.753832  4241   6.224590  1830   \n3                   -419.445173  1067 -487.029991  1067  12.000000     2   \n4                     -4.707643  1570  -41.035669  1570   1.661874  1878   \n5                    166.612337  8203  145.168617  8202   8.311705  2358   \n6                    187.426637  5023  162.495521  5023   7.999147  2346   \n7                   -236.930540  2721 -279.203309  2720  10.041739  1150   \n\n                    material_cat         denom_cat          mint_cat         \\\n                            mean  count       mean  count       mean  count   \nkmeans_noCollection                                                           \n0                       0.044592   6638   0.297680   6638  47.515818   6638   \n1                       0.975736   4451  23.878454   4451  34.907661   4451   \n2                       0.011392   4477   2.238999   4477  66.458343   4477   \n3                       3.898320   1131  33.302387   1131  40.351901   1131   \n4                       0.113419   1878   4.059638   1878  52.335463   1878   \n5                       0.005555  11161   3.494938  11161  84.054296  11161   \n6                       0.043362   7841   2.998470   7841  24.006377   7841   \n7                       1.036742   3511  37.006836   3511  52.115637   3511   \n\n                             coin         \n                             mean  count  \nkmeans_noCollection                       \n0                    23685.805815   6638  \n1                    17407.477196   4451  \n2                    18620.981684   4477  \n3                    33119.922193   1131  \n4                    20135.739084   1878  \n5                    24354.358122  11161  \n6                    17690.830634   7841  \n7                    18458.129593   3511  \n"
     ]
    },
    {
     "name": "stdout",
     "output_type": "stream",
     "text": [
      "/plot saved\n"
     ]
    }
   ],
   "source": [
    "variant = 'kmeans_noCollection'\n",
    "\n",
    "# import and impute, scale data\n",
    "exclude_var = ['collection_cat']\n",
    "data_prep, coin_clusters = import_data(dummy=False, exclude=exclude_var)\n",
    "scal_imp_data = scale_st(imput_it(data_prep), features=data_prep.columns, index=data_prep.index)\n",
    "\n",
    "#cluster data\n",
    "n = 8 #number of clusters\n",
    "labels = apply_kmeans(data=scal_imp_data, number_clusters=n)\n",
    "coin_clusters[variant] = labels\n",
    "\n",
    "#save results (coinsIDs + cluster labels)\n",
    "coin_clusters.to_csv(f\"clusters_{variant}.csv\", sep=\";\")\n",
    "\n",
    "# explore results\n",
    "results = pd.concat([data_prep, coin_clusters], axis=1)\n",
    "describe_feat_agg(data=results, col_labels=variant)\n",
    "plot_feat_matrix(data=results, col_labels=variant, title=\"kMeans Clustering with all Variables, stand/imputet, no dummy\")"
   ]
  },
  {
   "cell_type": "heading",
   "metadata": {},
   "level": 1,
   "source": [
    "1.3 excl. highly correlated variables (startdate, mindiam, maxdiam)"
   ]
  },
  {
   "cell_type": "code",
   "execution_count": 72,
   "metadata": {},
   "outputs": [
    {
     "name": "stdout",
     "output_type": "stream",
     "text": [
      "/data imported\n/data imputed\n/data scaled\n"
     ]
    },
    {
     "name": "stdout",
     "output_type": "stream",
     "text": [
      "/data kMeans clustered\nmin SSE: 86881.87876657107\n#iterations:  39\n"
     ]
    },
    {
     "name": "stdout",
     "output_type": "stream",
     "text": [
      "results per cluster\n                         weight            enddate              axis        \\\n                           mean  count        mean  count       mean count   \nkmeans_excl_corrVars                                                         \n0                     11.998474   3119  -66.473928   2589  10.542502  1047   \n1                      4.249747   5139 -373.882126   5175   7.795154  1362   \n2                      5.542562   4157  -60.834145   3491  11.799188  4188   \n3                      7.329809  10396  121.293765  10842   6.520490  2367   \n4                      6.709898   7325   38.802973   6390   6.581979  2153   \n5                      7.607613   2371    2.955492   2112   1.574583  2400   \n6                     26.720045   2016  153.097833   1615   7.033829   739   \n7                      8.702100    843 -414.675749   1101  10.000000     3   \n\n                     material_cat         denom_cat          mint_cat         \\\n                             mean  count       mean  count       mean  count   \nkmeans_excl_corrVars                                                           \n0                        0.787372   3405  43.087518   3405  62.163289   3405   \n1                        0.948937   5503  23.745230   5503  31.681083   5503   \n2                        0.073543   4188   0.682426   4188  52.902579   4188   \n3                        0.000295  13544   1.240697  13544  82.065638  13544   \n4                        0.013210   8857   0.694366   8857  22.024613   8857   \n5                        0.147500   2400   5.338750   2400  55.517500   2400   \n6                        0.062996   2016   1.186508   2016  62.638889   2016   \n7                        3.864681   1175  32.017872   1175  40.791489   1175   \n\n                              coin         \n                              mean  count  \nkmeans_excl_corrVars                       \n0                     18430.573862   3405  \n1                     18269.082500   5503  \n2                     22784.660697   4188  \n3                     23969.685248  13544  \n4                     18273.958338   8857  \n5                     19877.517500   2400  \n6                     18357.948909   2016  \n7                     32986.787234   1175  \n"
     ]
    }
   ],
   "source": [
    "variant = 'kmeans_excl_corrVars'\n",
    "#corr(mindiam, maxdiam)= 0,99, corr(weight, mindiam)=0.9, corr(weight, maxdiam)=0,88\n",
    "#fillratio weight 86%, maxdiam 75%, mindiam 44% \n",
    "#corr(startdate, enddate)= 0,99, equal fillratios \n",
    "\n",
    "# import and impute, scale data\n",
    "exclude_var = ['mindiam', 'startdate', 'maxdiam', 'collection_cat']\n",
    "data_prep, coin_clusters = import_data(dummy=False, exclude=exclude_var)\n",
    "scal_imp_data = scale_st(imput_it(data_prep), features=data_prep.columns, index=data_prep.index)\n",
    "\n",
    "#cluster data\n",
    "n = 8 #number of clusters\n",
    "labels = apply_kmeans(data=scal_imp_data, number_clusters=n)\n",
    "coin_clusters[variant] = labels\n",
    "\n",
    "#save results (coinsIDs + cluster labels)\n",
    "coin_clusters.to_csv(f\"clusters_{variant}.csv\", sep=\";\")\n",
    "\n",
    "# explore results\n",
    "results = pd.concat([data_prep, coin_clusters], axis=1)\n",
    "describe_feat_agg(data=results, col_labels=variant)\n",
    "sns.pairplot(results, hue=variant)\n",
    "plt.show()\n",
    "#plot_feat_matrix(all=True, data=results, col_labels=variant, title=\"kMeans Clustering with Variables excl highly correlated variables, stand/imputet, no dummy\")"
   ]
  },
  {
   "cell_type": "heading",
   "metadata": {},
   "level": 1,
   "source": [
    "kModes (nummeric + categorical data)\n"
   ]
  },
  {
   "cell_type": "heading",
   "metadata": {},
   "level": 1,
   "source": [
    "2.2 excl Collection"
   ]
  },
  {
   "cell_type": "code",
   "execution_count": 10,
   "metadata": {
    "collapsed": true
   },
   "outputs": [
    {
     "name": "stdout",
     "output_type": "stream",
     "text": [
      "/data imported\n"
     ]
    },
    {
     "ename": "TypeError",
     "evalue": "data type \"category\" not understood",
     "traceback": [
      "\u001b[1;31m---------------------------------------------------------------------------\u001b[0m",
      "\u001b[1;31mTypeError\u001b[0m                                 Traceback (most recent call last)",
      "\u001b[1;32m<ipython-input-10-b1479a0056b6>\u001b[0m in \u001b[0;36m<module>\u001b[1;34m\u001b[0m\n\u001b[0;32m      3\u001b[0m \u001b[0mexclude_var\u001b[0m \u001b[1;33m=\u001b[0m \u001b[1;33m[\u001b[0m\u001b[1;34m'collection_cat'\u001b[0m\u001b[1;33m]\u001b[0m\u001b[1;33m\u001b[0m\u001b[1;33m\u001b[0m\u001b[0m\n\u001b[0;32m      4\u001b[0m \u001b[0mdata_prep\u001b[0m\u001b[1;33m,\u001b[0m \u001b[0mcoin_clusters\u001b[0m \u001b[1;33m=\u001b[0m \u001b[0mimport_data\u001b[0m\u001b[1;33m(\u001b[0m\u001b[0mdummy\u001b[0m\u001b[1;33m=\u001b[0m\u001b[1;32mFalse\u001b[0m\u001b[1;33m,\u001b[0m \u001b[0mexclude\u001b[0m\u001b[1;33m=\u001b[0m\u001b[0mexclude_var\u001b[0m\u001b[1;33m)\u001b[0m\u001b[1;33m\u001b[0m\u001b[1;33m\u001b[0m\u001b[0m\n\u001b[1;32m----> 5\u001b[1;33m \u001b[0mscal_imp_data\u001b[0m \u001b[1;33m=\u001b[0m \u001b[0mscale_st\u001b[0m\u001b[1;33m(\u001b[0m\u001b[0mimput_it_test\u001b[0m\u001b[1;33m(\u001b[0m\u001b[0mdata_prep\u001b[0m\u001b[1;33m)\u001b[0m\u001b[1;33m,\u001b[0m \u001b[0mfeatures\u001b[0m\u001b[1;33m=\u001b[0m\u001b[0mdata_prep\u001b[0m\u001b[1;33m.\u001b[0m\u001b[0mcolumns\u001b[0m\u001b[1;33m,\u001b[0m \u001b[0mindex\u001b[0m\u001b[1;33m=\u001b[0m\u001b[0mdata_prep\u001b[0m\u001b[1;33m.\u001b[0m\u001b[0mindex\u001b[0m\u001b[1;33m)\u001b[0m\u001b[1;33m\u001b[0m\u001b[1;33m\u001b[0m\u001b[0m\n\u001b[0m\u001b[0;32m      6\u001b[0m \u001b[1;31m#TODO: impute only numeric values, handle cat nan as own category\u001b[0m\u001b[1;33m\u001b[0m\u001b[1;33m\u001b[0m\u001b[1;33m\u001b[0m\u001b[0m\n\u001b[0;32m      7\u001b[0m \u001b[1;33m\u001b[0m\u001b[0m\n",
      "\u001b[1;32m<ipython-input-9-137450223409>\u001b[0m in \u001b[0;36mimput_it_test\u001b[1;34m(data, no_cat)\u001b[0m\n\u001b[0;32m     63\u001b[0m     \u001b[0mhead\u001b[0m \u001b[1;33m=\u001b[0m \u001b[0mdata\u001b[0m\u001b[1;33m.\u001b[0m\u001b[0mcolumns\u001b[0m\u001b[1;33m\u001b[0m\u001b[1;33m\u001b[0m\u001b[0m\n\u001b[0;32m     64\u001b[0m     \u001b[1;32mfor\u001b[0m \u001b[0mcol\u001b[0m \u001b[1;32min\u001b[0m \u001b[0mdata\u001b[0m\u001b[1;33m.\u001b[0m\u001b[0mcolumns\u001b[0m\u001b[1;33m:\u001b[0m\u001b[1;33m\u001b[0m\u001b[1;33m\u001b[0m\u001b[0m\n\u001b[1;32m---> 65\u001b[1;33m         \u001b[1;32mif\u001b[0m \u001b[0mdata\u001b[0m\u001b[1;33m[\u001b[0m\u001b[0mcol\u001b[0m\u001b[1;33m]\u001b[0m\u001b[1;33m.\u001b[0m\u001b[0mdtype\u001b[0m \u001b[1;33m!=\u001b[0m \u001b[1;34m'category'\u001b[0m\u001b[1;33m:\u001b[0m\u001b[1;33m\u001b[0m\u001b[1;33m\u001b[0m\u001b[0m\n\u001b[0m\u001b[0;32m     66\u001b[0m             \u001b[0mprint\u001b[0m\u001b[1;33m(\u001b[0m\u001b[1;34m'test'\u001b[0m\u001b[1;33m)\u001b[0m\u001b[1;33m\u001b[0m\u001b[1;33m\u001b[0m\u001b[0m\n\u001b[0;32m     67\u001b[0m         \u001b[0mimp\u001b[0m\u001b[1;33m.\u001b[0m\u001b[0mfit\u001b[0m\u001b[1;33m(\u001b[0m\u001b[0mnp\u001b[0m\u001b[1;33m.\u001b[0m\u001b[0marray\u001b[0m\u001b[1;33m(\u001b[0m\u001b[0mdata\u001b[0m\u001b[1;33m[\u001b[0m\u001b[0mcol\u001b[0m\u001b[1;33m]\u001b[0m\u001b[1;33m)\u001b[0m\u001b[1;33m.\u001b[0m\u001b[0mreshape\u001b[0m\u001b[1;33m(\u001b[0m\u001b[1;33m-\u001b[0m\u001b[1;36m1\u001b[0m\u001b[1;33m,\u001b[0m\u001b[1;36m1\u001b[0m\u001b[1;33m)\u001b[0m\u001b[1;33m)\u001b[0m\u001b[1;33m\u001b[0m\u001b[1;33m\u001b[0m\u001b[0m\n",
      "\u001b[1;31mTypeError\u001b[0m: data type \"category\" not understood"
     ],
     "output_type": "error"
    }
   ],
   "source": [
    "variant = 'kmodes_noCollection'\n",
    "# import and impute, scale data\n",
    "exclude_var = ['collection_cat']\n",
    "data_prep, coin_clusters = import_data(dummy=False, exclude=exclude_var)\n",
    "scal_imp_data = scale_st(imput_it_test(data_prep), features=data_prep.columns, index=data_prep.index)\n",
    "#TODO: impute only numeric values, handle cat nan as own category\n",
    "\n",
    "#cluster data\n",
    "n = 8 #number of clusters\n",
    "labels = apply_kmodes(data=scal_imp_data, number_clusters=n, cat_columns=[5, 6, 7, 8])\n",
    "coin_clusters[variant] = labels\n",
    "\n",
    "#save results (coinsIDs + cluster labels)\n",
    "coin_clusters.to_csv(f\"clusters_{variant}.csv\", sep=\";\")\n",
    "\n",
    "# explore results\n",
    "\n"
   ]
  },
  {
   "cell_type": "heading",
   "metadata": {},
   "level": 1,
   "source": [
    "explore results"
   ]
  },
  {
   "cell_type": "code",
   "execution_count": null,
   "metadata": {
    "scrolled": true,
    "collapsed": false
   },
   "outputs": [],
   "source": [
    "#'maxdiam', 'weight', 'enddate', 'startdate', 'axis',\n",
    "#'material_ ae ','material_ ar ', 'material_ av ', 'material_ cu ', 'material_ el ', #'material_ pb ', \n",
    "#'denom_cat', 'mint_cat', 'collection_cat']\n",
    "\n",
    "\n",
    "    \n",
    "#data = pd.concat([data_raw, data_clusters], axis=1)\n",
    "#print(pd.DataFrame(kproto.labels_)[0].value_counts())\n",
    "##algo = 'kmodes'\n",
    "#algo = 'kmeans'\n",
    "\n",
    "#data_agg = data.groupby(f\"labels_{algo}\").agg([\"mean\", \"count\"])\n",
    "#print(data_agg)\n",
    "#plot_feat_matrix(data, algo, \"test\")\n",
    "\n"
   ]
  },
  {
   "cell_type": "heading",
   "metadata": {},
   "level": 1,
   "source": [
    "[optimal number of Clusters]"
   ]
  },
  {
   "cell_type": "code",
   "execution_count": null,
   "metadata": {},
   "outputs": [],
   "source": [
    "max_clusters = 15\n",
    "scal_imp_data = scale_st(imput_it(data_prep), features_prep, index_prep) #imputieren, skalieren\n",
    "\n",
    "sse = []\n",
    "for k in range(1, max_clusters):\n",
    "    kmeans.fit(scal_imp_data)\n",
    "    sse.append(kmeans.inertia_)\n",
    "\n",
    "plt.plot(range(1, max_clusters), sse)\n",
    "plt.xticks(range(1, max_clusters))\n",
    "plt.xlabel(\"Number of Clusters\")\n",
    "plt.ylabel(\"SSE\")\n",
    "plt.show()\n",
    "\n",
    "\n",
    "#elbow point\n",
    "kl = KneeLocator(\n",
    "    range(1, max_clusters), sse, curve=\"convex\", direction=\"decreasing\")\n",
    "print(\"elbow point KneeLocator: \", kl.elbow)\n",
    "\n",
    "\n"
   ]
  }
 ],
 "metadata": {
  "kernelspec": {
   "display_name": "Python 3",
   "language": "python",
   "name": "python3"
  },
  "language_info": {
   "codemirror_mode": {
    "name": "ipython",
    "version": 3
   },
   "file_extension": ".py",
   "mimetype": "text/x-python",
   "name": "python",
   "nbconvert_exporter": "python",
   "pygments_lexer": "ipython3",
   "version": "3.6.7"
  }
 },
 "nbformat": 4,
 "nbformat_minor": 4
}
