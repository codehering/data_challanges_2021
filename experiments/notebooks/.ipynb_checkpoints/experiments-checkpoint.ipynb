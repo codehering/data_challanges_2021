{
 "cells": [
  {
   "cell_type": "code",
   "execution_count": 1,
   "metadata": {},
   "outputs": [],
   "source": [
    "import pandas as pd\n",
    "import umap.umap_ as umap\n",
    "import umap.utils\n",
    "import umap.plot\n",
    "from datetime import datetime\n",
    "from sklearn.preprocessing import StandardScaler\n",
    "from sklearn.model_selection import train_test_split\n",
    "from sklearn.decomposition import TruncatedSVD\n",
    "from sklearn.cluster import DBSCAN"
   ]
  },
  {
   "cell_type": "code",
   "execution_count": null,
   "metadata": {},
   "outputs": [],
   "source": [
    "data = pd.read_csv('..\\\\data\\\\analysis_dataset_w_material.csv', sep=\";\")\n",
    "del data[\"mindiam\"]\n",
    "del data[\"axis\"]\n",
    "del data[\"Unnamed: 0\"]\n",
    "data = data.dropna()\n",
    "data.shape\n",
    "del data[\"findspot\"]\n",
    "coins = data[\"coin\"].to_list()\n",
    "data[\"material\"] = data[\"material\"].astype(\"category\")\n",
    "data[\"material\"] = data[\"material\"].cat.codes\n",
    "for c in data.columns:\n",
    "    try:\n",
    "        data[c] = data[c].astype(float)\n",
    "    except:\n",
    "        print(c)\n",
    "del data[\"coin\"]\n",
    "scaled_data = StandardScaler().fit_transform(data)\n",
    "scaled_data = pd.DataFrame(scaled_data)\n",
    "scaled_data[\"coin\"] = coins\n",
    "design_data = pd.read_csv(\"..\\\\2021_06_01_DC_NLP_CNT\\\\design_dummys.csv\", sep=\";\")\n",
    "svd = TruncatedSVD(n_components=2, n_iter=20, random_state=42)\n",
    "design_coins = design_data[\"id_coin\"].to_list()\n",
    "del design_data[\"id_coin\"]\n",
    "del design_data[\"Unnamed: 0\"]\n",
    "svd.fit(design_data)\n",
    "new = svd.transform(design_data)\n",
    "new = pd.DataFrame(new)\n",
    "new[\"id_coin\"] = design_coins\n",
    "complete_data = pd.merge(scaled_data, new, how=\"left\", left_on=\"coin\", right_on=\"id_coin\")\n",
    "print(complete_data.shape)\n",
    "complete_data = complete_data.dropna()\n",
    "coins = complete_data[\"coin\"]\n",
    "del complete_data[\"coin\"]\n",
    "\n",
    "del complete_data[\"id_coin\"]\n",
    "print(complete_data.shape)"
   ]
  },
  {
   "cell_type": "code",
   "execution_count": null,
   "metadata": {},
   "outputs": [],
   "source": [
    "import random\n",
    "def cross_validation(d, k=40):\n",
    "    seeds = random.sample(range(0, 100000), k)\n",
    "    embedding_x = 0\n",
    "    embedding_y = 0\n",
    "    for seed in seeds:\n",
    "        r = umap.UMAP(random_state=seed)\n",
    "        r.fit(d)\n",
    "        embedding = r.transform(d)\n",
    "        embedding_x += embedding[:, 0]\n",
    "        embedding_y += embedding[:, 1]\n",
    "    embedding_x = embedding_x / k\n",
    "    embedding_y = embedding_y / k\n",
    "    return embedding_x, embedding_y"
   ]
  },
  {
   "cell_type": "code",
   "execution_count": null,
   "metadata": {},
   "outputs": [],
   "source": [
    "x, y = cross_validation(complete_data, k=20)\n",
    "plt.scatter(\n",
    "    x,\n",
    "    y)\n",
    "plt.gca().set_aspect('equal', 'datalim')"
   ]
  },
  {
   "cell_type": "code",
   "execution_count": null,
   "metadata": {},
   "outputs": [],
   "source": [
    "cluster_dataset = pd.DataFrame({\"x\": x, \"y\": y})\n",
    "clustering = DBSCAN(eps=1, min_samples=10).fit(cluster_dataset)\n",
    "labels = clustering.labels_\n",
    "cluster_dataset[\"label\"] = labels"
   ]
  },
  {
   "cell_type": "code",
   "execution_count": null,
   "metadata": {},
   "outputs": [],
   "source": [
    "plt.scatter(\n",
    "    cluster_dataset[\"x\"],\n",
    "    cluster_dataset[\"y\"], c=cluster_dataset[\"label\"])\n",
    "plt.gca().set_aspect('equal', 'datalim')"
   ]
  }
 ],
 "metadata": {
  "kernelspec": {
   "display_name": "Python 3",
   "language": "python",
   "name": "python3"
  },
  "language_info": {
   "codemirror_mode": {
    "name": "ipython",
    "version": 3
   },
   "file_extension": ".py",
   "mimetype": "text/x-python",
   "name": "python",
   "nbconvert_exporter": "python",
   "pygments_lexer": "ipython3",
   "version": "3.6.9"
  }
 },
 "nbformat": 4,
 "nbformat_minor": 4
}
