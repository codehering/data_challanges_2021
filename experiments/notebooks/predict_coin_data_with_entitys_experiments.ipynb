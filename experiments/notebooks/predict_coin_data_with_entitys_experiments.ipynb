{
 "cells": [
  {
   "cell_type": "markdown",
   "metadata": {},
   "source": [
    "<h1>Predict coin data with entitys - experiments </h1>\n",
    "In this notebbok we tried to predict different variables of the coin dataset with the entity data. The entitys were prepared as dummy variables for the estimation. A simple Random Forest Classifier was used and and surprisingly good accuracy and r-square value was found. The classifier was not optimised and even better prediction results could be achieved with other algorithms. However, this was not our main task of the Challenge, but only a minor aspect. However, there seems to be a relationship between the entities and the coin data that could be addressed in subsequent projects. "
   ]
  },
  {
   "cell_type": "code",
   "execution_count": 20,
   "metadata": {},
   "outputs": [],
   "source": [
    "import pandas as pd\n",
    "from sklearn.ensemble import RandomForestClassifier\n",
    "from sklearn.metrics import accuracy_score, r2_score, classification_report\n",
    "from sklearn.model_selection import train_test_split\n",
    "import matplotlib.pyplot as plt"
   ]
  },
  {
   "cell_type": "code",
   "execution_count": 21,
   "metadata": {},
   "outputs": [],
   "source": [
    "abs_path = \"C:\\\\Users\\\\fredi\\\\Desktop\\\\Uni\\\\Data Challanges\\\\CN\\\\\"\n",
    "data = pd.read_csv(f\"{abs_path}data\\\\analysis_dataset_w_material.csv\", sep=\";\")\n",
    "entity_dummys = pd.read_csv(f\"{abs_path}2021_06_01_DC_NLP_CNT\\\\design_dummys.csv\", sep=\";\")"
   ]
  },
  {
   "cell_type": "code",
   "execution_count": 60,
   "metadata": {},
   "outputs": [
    {
     "data": {
      "text/plain": [
       "Index(['Unnamed: 0', 'coin', 'maxdiam', 'mindiam', 'weight', 'material',\n",
       "       'enddate', 'startdate', 'axis', 'findspot', 'material_cat', 'denom_cat',\n",
       "       'mint_cat', 'collection_cat'],\n",
       "      dtype='object')"
      ]
     },
     "execution_count": 60,
     "metadata": {},
     "output_type": "execute_result"
    }
   ],
   "source": [
    "data.columns"
   ]
  },
  {
   "cell_type": "code",
   "execution_count": 22,
   "metadata": {},
   "outputs": [
    {
     "name": "stdout",
     "output_type": "stream",
     "text": [
      "(28995, 572)\n",
      "(41088, 14)\n"
     ]
    }
   ],
   "source": [
    "print(entity_dummys.shape)\n",
    "print(data.shape)"
   ]
  },
  {
   "cell_type": "code",
   "execution_count": 61,
   "metadata": {},
   "outputs": [],
   "source": [
    "# merge data for analysis\n",
    "total_data = pd.merge(data, entity_dummys, how=\"left\", left_on=\"coin\", right_on=\"id_coin\")"
   ]
  },
  {
   "cell_type": "code",
   "execution_count": 62,
   "metadata": {},
   "outputs": [
    {
     "name": "stdout",
     "output_type": "stream",
     "text": [
      "(41088, 586)\n"
     ]
    }
   ],
   "source": [
    "print(total_data.shape)\n",
    "entity_only = [x for x in total_data.columns if \"entity\" in x]\n",
    "entitys_with_enddate = total_data[entity_only+[\"enddate\"]]\n",
    "entitys_with_startdate = total_data[entity_only+[\"startdate\"]]\n",
    "entitys_with_mint = total_data[entity_only+[\"mint_cat\"]]\n",
    "entitys_with_material = total_data[entity_only+[\"material_cat\"]]"
   ]
  },
  {
   "cell_type": "code",
   "execution_count": 63,
   "metadata": {},
   "outputs": [
    {
     "name": "stdout",
     "output_type": "stream",
     "text": [
      "(28577, 571)\n",
      "(28577, 571)\n",
      "(28995, 571)\n",
      "(28995, 571)\n"
     ]
    }
   ],
   "source": [
    "entitys_with_enddate = entitys_with_enddate.dropna()\n",
    "print(entitys_with_enddate.shape)\n",
    "entitys_with_startdate = entitys_with_startdate.dropna()\n",
    "print(entitys_with_startdate.shape)\n",
    "entitys_with_mint = entitys_with_mint.dropna()\n",
    "print(entitys_with_mint.shape)\n",
    "entitys_with_material = entitys_with_material.dropna()\n",
    "print(entitys_with_material.shape)\n"
   ]
  },
  {
   "cell_type": "code",
   "execution_count": 57,
   "metadata": {},
   "outputs": [],
   "source": [
    "def simple_rf_model(x, y, class_report=False):\n",
    "    X_train, X_test, y_train, y_test = train_test_split(x, y, test_size=0.2, random_state=42)\n",
    "    clf = RandomForestClassifier(max_depth=30, random_state=0, n_estimators=200)\n",
    "\n",
    "    clf.fit(X_train, y_train)\n",
    "    y_predict = clf.predict(X_test)\n",
    "    print(accuracy_score(y_test, y_predict))\n",
    "    print(r2_score(y_test, clf.predict(X_test)))\n",
    "    if class_report:\n",
    "        print(classification_report(y_test, y_predict))"
   ]
  },
  {
   "cell_type": "markdown",
   "metadata": {},
   "source": [
    "<h1>Predict enddate with entitys </h1> "
   ]
  },
  {
   "cell_type": "code",
   "execution_count": 54,
   "metadata": {},
   "outputs": [
    {
     "name": "stdout",
     "output_type": "stream",
     "text": [
      "0.7758922323303009\n",
      "0.9358769506436215\n"
     ]
    }
   ],
   "source": [
    "y = entitys_with_enddate[\"enddate\"]\n",
    "X = entitys_with_enddate[entity_only]\n",
    "simple_rf_model(X, y)"
   ]
  },
  {
   "cell_type": "markdown",
   "metadata": {},
   "source": [
    "<h1> Predict startdate with entitys </h1>"
   ]
  },
  {
   "cell_type": "code",
   "execution_count": 55,
   "metadata": {},
   "outputs": [
    {
     "name": "stdout",
     "output_type": "stream",
     "text": [
      "0.75\n",
      "0.9458344354167045\n"
     ]
    }
   ],
   "source": [
    "y = entitys_with_startdate[\"startdate\"]\n",
    "X = entitys_with_startdate[entity_only]\n",
    "simple_rf_model(X, y)"
   ]
  },
  {
   "cell_type": "markdown",
   "metadata": {},
   "source": [
    "<h1> Predict mint with entitys </h1>"
   ]
  },
  {
   "cell_type": "code",
   "execution_count": 58,
   "metadata": {},
   "outputs": [
    {
     "name": "stdout",
     "output_type": "stream",
     "text": [
      "0.8101396792550439\n",
      "0.6626372381987898\n",
      "              precision    recall  f1-score   support\n",
      "\n",
      "        -1.0       0.88      0.78      0.82       175\n",
      "         0.0       0.00      0.00      0.00         2\n",
      "         1.0       0.94      0.98      0.96       232\n",
      "         2.0       0.70      0.92      0.79       132\n",
      "         3.0       1.00      0.50      0.67         2\n",
      "         4.0       0.82      0.75      0.78       109\n",
      "         5.0       1.00      1.00      1.00        15\n",
      "         6.0       0.91      0.89      0.90       157\n",
      "         7.0       1.00      1.00      1.00         2\n",
      "         9.0       1.00      0.18      0.30        17\n",
      "        10.0       0.86      0.63      0.72        67\n",
      "        11.0       0.89      0.70      0.78        23\n",
      "        12.0       0.00      0.00      0.00         5\n",
      "        14.0       1.00      0.35      0.52        20\n",
      "        15.0       1.00      0.91      0.95        33\n",
      "        16.0       0.00      0.00      0.00         2\n",
      "        17.0       1.00      0.39      0.56        23\n",
      "        18.0       0.94      1.00      0.97        15\n",
      "        19.0       0.00      0.00      0.00         0\n",
      "        20.0       0.78      0.76      0.77       188\n",
      "        21.0       1.00      1.00      1.00        17\n",
      "        22.0       1.00      0.27      0.43        11\n",
      "        23.0       0.83      0.66      0.74        65\n",
      "        24.0       0.90      0.92      0.91       417\n",
      "        25.0       1.00      0.40      0.57        10\n",
      "        27.0       0.96      0.77      0.85        61\n",
      "        28.0       1.00      1.00      1.00         2\n",
      "        29.0       0.96      0.45      0.61        60\n",
      "        30.0       1.00      0.02      0.04        48\n",
      "        32.0       0.66      0.94      0.78        65\n",
      "        33.0       1.00      0.70      0.82        10\n",
      "        34.0       0.94      0.75      0.84        44\n",
      "        35.0       1.00      0.17      0.29        12\n",
      "        36.0       1.00      0.60      0.75         5\n",
      "        37.0       1.00      0.43      0.60        14\n",
      "        38.0       0.70      0.97      0.81       242\n",
      "        39.0       1.00      0.85      0.92        46\n",
      "        40.0       0.73      0.73      0.73       121\n",
      "        41.0       1.00      0.92      0.96        26\n",
      "        42.0       1.00      0.60      0.75         5\n",
      "        43.0       1.00      0.83      0.91        12\n",
      "        45.0       1.00      1.00      1.00         1\n",
      "        46.0       0.78      0.78      0.78        41\n",
      "        47.0       1.00      1.00      1.00         8\n",
      "        48.0       1.00      1.00      1.00        14\n",
      "        49.0       0.76      0.46      0.58        41\n",
      "        52.0       0.71      0.71      0.71       160\n",
      "        53.0       1.00      0.40      0.57        10\n",
      "        54.0       0.80      1.00      0.89         8\n",
      "        56.0       0.00      0.00      0.00         2\n",
      "        57.0       0.00      0.00      0.00         1\n",
      "        58.0       1.00      0.64      0.78        25\n",
      "        59.0       1.00      0.27      0.43        11\n",
      "        60.0       1.00      0.89      0.94        85\n",
      "        61.0       0.50      0.67      0.57         3\n",
      "        62.0       0.96      0.79      0.87        33\n",
      "        64.0       0.00      0.00      0.00         1\n",
      "        65.0       0.00      0.00      0.00         1\n",
      "        66.0       0.66      0.89      0.76        75\n",
      "        67.0       1.00      0.75      0.86         8\n",
      "        68.0       0.90      0.79      0.84       138\n",
      "        69.0       0.99      0.99      0.99       409\n",
      "        70.0       0.86      0.82      0.84       106\n",
      "        71.0       0.00      0.00      0.00         1\n",
      "        72.0       1.00      1.00      1.00         1\n",
      "        73.0       1.00      0.56      0.72        16\n",
      "        74.0       1.00      1.00      1.00         9\n",
      "        75.0       0.81      0.41      0.54        86\n",
      "        76.0       0.77      0.61      0.68        28\n",
      "        77.0       0.93      0.89      0.91        45\n",
      "        79.0       1.00      1.00      1.00        11\n",
      "        80.0       1.00      1.00      1.00        11\n",
      "        81.0       0.00      0.00      0.00         1\n",
      "        82.0       0.67      0.23      0.34        26\n",
      "        83.0       0.78      0.94      0.85       456\n",
      "        84.0       0.87      0.87      0.87       353\n",
      "        85.0       1.00      0.63      0.77        27\n",
      "        86.0       0.61      0.95      0.74       550\n",
      "        88.0       1.00      0.96      0.98        27\n",
      "        89.0       1.00      1.00      1.00         4\n",
      "        90.0       0.50      0.10      0.17        10\n",
      "        91.0       0.88      0.78      0.82         9\n",
      "        93.0       0.00      0.00      0.00         1\n",
      "        94.0       0.00      0.00      0.00         1\n",
      "        95.0       1.00      0.58      0.74        24\n",
      "        96.0       0.00      0.00      0.00        10\n",
      "        97.0       0.00      0.00      0.00         1\n",
      "        98.0       0.54      1.00      0.70         7\n",
      "        99.0       0.58      0.35      0.44        94\n",
      "       100.0       0.97      0.47      0.63        60\n",
      "       101.0       0.76      0.89      0.82        18\n",
      "       104.0       1.00      0.89      0.94        27\n",
      "       105.0       0.00      0.00      0.00         1\n",
      "       106.0       1.00      0.88      0.94        25\n",
      "       108.0       1.00      1.00      1.00         1\n",
      "       109.0       0.80      0.50      0.61       110\n",
      "       110.0       1.00      0.36      0.53        11\n",
      "       111.0       0.93      0.39      0.55        36\n",
      "       114.0       1.00      1.00      1.00         5\n",
      "       115.0       0.00      0.00      0.00         3\n",
      "\n",
      "    accuracy                           0.81      5799\n",
      "   macro avg       0.76      0.61      0.65      5799\n",
      "weighted avg       0.83      0.81      0.80      5799\n",
      "\n"
     ]
    },
    {
     "name": "stderr",
     "output_type": "stream",
     "text": [
      "c:\\users\\fredi\\anaconda3\\envs\\ftp\\lib\\site-packages\\sklearn\\metrics\\_classification.py:1221: UndefinedMetricWarning: Precision and F-score are ill-defined and being set to 0.0 in labels with no predicted samples. Use `zero_division` parameter to control this behavior.\n",
      "  _warn_prf(average, modifier, msg_start, len(result))\n",
      "c:\\users\\fredi\\anaconda3\\envs\\ftp\\lib\\site-packages\\sklearn\\metrics\\_classification.py:1221: UndefinedMetricWarning: Recall and F-score are ill-defined and being set to 0.0 in labels with no true samples. Use `zero_division` parameter to control this behavior.\n",
      "  _warn_prf(average, modifier, msg_start, len(result))\n"
     ]
    }
   ],
   "source": [
    "simple_rf_model( entitys_with_mint[entity_only], entitys_with_mint[\"mint_cat\"], True)"
   ]
  },
  {
   "cell_type": "markdown",
   "metadata": {},
   "source": [
    "<h1> Predict material with entitys </h1>"
   ]
  },
  {
   "cell_type": "code",
   "execution_count": 64,
   "metadata": {},
   "outputs": [
    {
     "name": "stdout",
     "output_type": "stream",
     "text": [
      "0.9242972926366615\n",
      "0.8064046882964317\n",
      "              precision    recall  f1-score   support\n",
      "\n",
      "        -1.0       1.00      0.25      0.39       114\n",
      "         0.0       0.92      0.99      0.95      4143\n",
      "         1.0       0.94      0.81      0.87      1286\n",
      "         2.0       0.96      0.55      0.70        49\n",
      "         3.0       0.95      0.55      0.70        38\n",
      "         4.0       0.99      0.95      0.97       169\n",
      "\n",
      "    accuracy                           0.92      5799\n",
      "   macro avg       0.96      0.68      0.76      5799\n",
      "weighted avg       0.93      0.92      0.92      5799\n",
      "\n"
     ]
    }
   ],
   "source": [
    "simple_rf_model(entitys_with_material[entity_only], entitys_with_material[\"material_cat\"],  True)"
   ]
  },
  {
   "cell_type": "code",
   "execution_count": null,
   "metadata": {},
   "outputs": [],
   "source": []
  }
 ],
 "metadata": {
  "kernelspec": {
   "display_name": "Python 3",
   "language": "python",
   "name": "python3"
  },
  "language_info": {
   "codemirror_mode": {
    "name": "ipython",
    "version": 3
   },
   "file_extension": ".py",
   "mimetype": "text/x-python",
   "name": "python",
   "nbconvert_exporter": "python",
   "pygments_lexer": "ipython3",
   "version": "3.6.9"
  }
 },
 "nbformat": 4,
 "nbformat_minor": 4
}
